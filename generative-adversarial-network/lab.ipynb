{
 "cells": [
  {
   "cell_type": "code",
   "execution_count": null,
   "metadata": {
    "execution": {
     "iopub.execute_input": "2023-11-08T11:24:57.106875Z",
     "iopub.status.busy": "2023-11-08T11:24:57.105832Z",
     "iopub.status.idle": "2023-11-08T11:25:09.061209Z",
     "shell.execute_reply": "2023-11-08T11:25:09.060043Z",
     "shell.execute_reply.started": "2023-11-08T11:24:57.106826Z"
    },
    "id": "ASpHTLNHl1T2",
    "scrolled": true
   },
   "outputs": [],
   "source": [
    "!pip install gdown wandb"
   ]
  },
  {
   "cell_type": "code",
   "execution_count": null,
   "metadata": {
    "execution": {
     "iopub.execute_input": "2023-11-08T11:25:09.064512Z",
     "iopub.status.busy": "2023-11-08T11:25:09.064071Z",
     "iopub.status.idle": "2023-11-08T11:25:12.521118Z",
     "shell.execute_reply": "2023-11-08T11:25:12.520225Z",
     "shell.execute_reply.started": "2023-11-08T11:25:09.064468Z"
    },
    "id": "98OXZq2hbg1V",
    "outputId": "21cb0a69-d022-4fa7-a3f3-9f1379e86d6f"
   },
   "outputs": [],
   "source": [
    "import wandb\n",
    "wandb.login()"
   ]
  },
  {
   "cell_type": "code",
   "execution_count": 3,
   "metadata": {
    "execution": {
     "iopub.execute_input": "2023-11-08T11:25:12.522614Z",
     "iopub.status.busy": "2023-11-08T11:25:12.522195Z",
     "iopub.status.idle": "2023-11-08T11:25:12.720100Z",
     "shell.execute_reply": "2023-11-08T11:25:12.719348Z",
     "shell.execute_reply.started": "2023-11-08T11:25:12.522588Z"
    },
    "id": "2XOvg9NCmPSO",
    "outputId": "f1e08b9c-39fd-4d12-c40a-dfdb08fc94e2"
   },
   "outputs": [],
   "source": [
    "import gdown\n",
    "import os\n",
    "\n",
    "DATA_PATH = '/kaggle/input/crawled-cakes'\n",
    "\n",
    "def download(url, output, *args, **kwargs):\n",
    "  if os.path.exists(output):\n",
    "    print('the file already exist!')\n",
    "    return\n",
    "  gdown.download(url, output, *args, **kwargs)\n",
    "\n",
    "\n",
    "url = 'https://drive.google.com/file/d/1ezlW2jo8VVj8AD5mirdRCXFEnIf_zflD/view'\n",
    "output = 'generated_cakes.zip'\n",
    "\n",
    "# download(url, output, quiet=False, fuzzy=True)"
   ]
  },
  {
   "cell_type": "code",
   "execution_count": 4,
   "metadata": {
    "execution": {
     "iopub.execute_input": "2023-11-08T11:25:12.721683Z",
     "iopub.status.busy": "2023-11-08T11:25:12.721266Z",
     "iopub.status.idle": "2023-11-08T11:25:12.726017Z",
     "shell.execute_reply": "2023-11-08T11:25:12.725080Z",
     "shell.execute_reply.started": "2023-11-08T11:25:12.721656Z"
    },
    "id": "M0wsswmCm16Y",
    "outputId": "fe131fa9-972c-4a3d-f107-27985c70afe5"
   },
   "outputs": [],
   "source": [
    "url2 = 'https://drive.google.com/file/d/16yNwt9Lc9ZT2qYdXY6b0DBW66l2bTcg6/view?usp=share_link'\n",
    "output = 'crawled_cakes.zip'\n",
    "# download(url, output, quiet=False, fuzzy=True)"
   ]
  },
  {
   "cell_type": "markdown",
   "metadata": {
    "id": "uSwPkZ6undUc"
   },
   "source": [
    "# Discrimivative model\n",
    "## Setup\n"
   ]
  },
  {
   "cell_type": "code",
   "execution_count": 5,
   "metadata": {
    "execution": {
     "iopub.execute_input": "2023-11-08T11:25:12.728724Z",
     "iopub.status.busy": "2023-11-08T11:25:12.728463Z",
     "iopub.status.idle": "2023-11-08T11:25:14.426000Z",
     "shell.execute_reply": "2023-11-08T11:25:14.425005Z",
     "shell.execute_reply.started": "2023-11-08T11:25:12.728701Z"
    },
    "id": "5djRGhSLonVj"
   },
   "outputs": [],
   "source": [
    "import torch\n",
    "from torch import nn\n",
    "from torch.utils.data import DataLoader\n",
    "from torchvision import datasets, transforms\n",
    "\n",
    "import matplotlib.pyplot as plt\n",
    "import matplotlib.animation as animation\n",
    "from tqdm.notebook import tqdm"
   ]
  },
  {
   "cell_type": "code",
   "execution_count": 6,
   "metadata": {
    "execution": {
     "iopub.execute_input": "2023-11-08T11:25:14.427697Z",
     "iopub.status.busy": "2023-11-08T11:25:14.427248Z",
     "iopub.status.idle": "2023-11-08T11:25:14.451617Z",
     "shell.execute_reply": "2023-11-08T11:25:14.450643Z",
     "shell.execute_reply.started": "2023-11-08T11:25:14.427670Z"
    },
    "id": "Gm4kVzgGovjv",
    "outputId": "bea5befa-352e-41f4-9333-38a28cc54eeb"
   },
   "outputs": [
    {
     "name": "stdout",
     "output_type": "stream",
     "text": [
      "Using cuda device\n"
     ]
    }
   ],
   "source": [
    "device = (\n",
    "    \"cuda\"\n",
    "    if torch.cuda.is_available()\n",
    "    else \"mps\"\n",
    "    if torch.backends.mps.is_available()\n",
    "    else \"cpu\"\n",
    ")\n",
    "print(f\"Using {device} device\")"
   ]
  },
  {
   "cell_type": "markdown",
   "metadata": {},
   "source": [
    "## Discriminative network"
   ]
  },
  {
   "cell_type": "code",
   "execution_count": 7,
   "metadata": {
    "execution": {
     "iopub.execute_input": "2023-11-08T11:25:14.453318Z",
     "iopub.status.busy": "2023-11-08T11:25:14.452953Z",
     "iopub.status.idle": "2023-11-08T11:25:15.974874Z",
     "shell.execute_reply": "2023-11-08T11:25:15.973836Z",
     "shell.execute_reply.started": "2023-11-08T11:25:14.453284Z"
    },
    "id": "fuDDk2EGo2mc"
   },
   "outputs": [],
   "source": [
    "# Input shape: [N, 3, 32, 32]\n",
    "class DiscriminativeNetwork(nn.Module):\n",
    "    def __init__(self):\n",
    "        super().__init__()\n",
    "        self.conv_args = {\n",
    "            'kernel_size': (4, 4),\n",
    "            'stride': 2,\n",
    "            'padding': 1,\n",
    "        }\n",
    "\n",
    "        self.model = nn.Sequential(\n",
    "            # 1.\n",
    "            nn.Conv2d(\n",
    "                in_channels=3,\n",
    "                out_channels=32,\n",
    "                **self.conv_args,\n",
    "            ),\n",
    "            # [N, 32, 16, 16]\n",
    "            nn.BatchNorm2d(32),\n",
    "            # L2 regularization\n",
    "            nn.LeakyReLU(0.2),\n",
    "\n",
    "            # 2.\n",
    "            nn.Conv2d(\n",
    "                in_channels=32,\n",
    "                out_channels=64,\n",
    "                **self.conv_args,\n",
    "            ),\n",
    "            nn.BatchNorm2d(64),\n",
    "            nn.LeakyReLU(0.2),\n",
    "\n",
    "            # 3.\n",
    "            nn.Conv2d(\n",
    "                in_channels=64,\n",
    "                out_channels=64,\n",
    "                **self.conv_args,\n",
    "            ),\n",
    "            nn.BatchNorm2d(64),\n",
    "            nn.LeakyReLU(0.2),\n",
    "\n",
    "            nn.Flatten(),\n",
    "            nn.Dropout(0.2),\n",
    "            nn.Linear(64 * 4 * 4, 1),\n",
    "            nn.Sigmoid(),\n",
    "        )\n",
    "\n",
    "    def forward(self, x):\n",
    "        logits = self.model(x)\n",
    "        return logits\n",
    "\n",
    "discriminative_model = DiscriminativeNetwork().to(device)"
   ]
  },
  {
   "cell_type": "markdown",
   "metadata": {},
   "source": [
    "## Generative network"
   ]
  },
  {
   "cell_type": "code",
   "execution_count": 8,
   "metadata": {
    "execution": {
     "iopub.execute_input": "2023-11-08T11:25:15.977278Z",
     "iopub.status.busy": "2023-11-08T11:25:15.976441Z",
     "iopub.status.idle": "2023-11-08T11:25:15.998384Z",
     "shell.execute_reply": "2023-11-08T11:25:15.997574Z",
     "shell.execute_reply.started": "2023-11-08T11:25:15.977240Z"
    },
    "id": "57YCo54SsqHg",
    "outputId": "94632790-0c86-4eb8-ca05-fcde6b5be849"
   },
   "outputs": [],
   "source": [
    "# Input shape: [N, 1, 64]\n",
    "class GenerativeNetwork(nn.Module):\n",
    "    def __init__(self):\n",
    "        super().__init__()\n",
    "        self.conv_args = {\n",
    "            'kernel_size': (4, 4),\n",
    "            'stride': 2,\n",
    "            'padding': 1,\n",
    "        }\n",
    "\n",
    "        self.model = nn.Sequential(\n",
    "            nn.Linear(64, 64 * 4 * 4),\n",
    "            # [N, 1, 64 * 4 * 4]\n",
    "            nn.Unflatten(\n",
    "                dim=1,\n",
    "                unflattened_size=(64, 4, 4),\n",
    "            ),\n",
    "            # [N, 64, 4, 4]\n",
    "            nn.ConvTranspose2d(\n",
    "                in_channels=64,\n",
    "                out_channels=64,\n",
    "                **self.conv_args,\n",
    "            ),\n",
    "            nn.LeakyReLU(0.2),\n",
    "            # [N, 64, 8, 8]\n",
    "            nn.ConvTranspose2d(\n",
    "                in_channels=64,\n",
    "                out_channels=128,\n",
    "                **self.conv_args,\n",
    "            ),\n",
    "            nn.LeakyReLU(0.2),\n",
    "\n",
    "            # [N, 128, 16, 16]\n",
    "\n",
    "            nn.ConvTranspose2d(\n",
    "                in_channels=128,\n",
    "                out_channels=256,\n",
    "                **self.conv_args,\n",
    "            ),\n",
    "            nn.LeakyReLU(0.2),\n",
    "\n",
    "            # [N, 256, 32, 32]\n",
    "            nn.Conv2d(\n",
    "                in_channels=256,\n",
    "                out_channels=3,\n",
    "                kernel_size=(5, 5),\n",
    "                padding='same',\n",
    "\n",
    "            ),\n",
    "            nn.LeakyReLU(0.2),\n",
    "            nn.Tanh(),\n",
    "        )\n",
    "\n",
    "    def forward(self, x):\n",
    "        return self.model(x)\n",
    "\n",
    "\n",
    "generative_model = GenerativeNetwork().to(device)\n",
    "input_tensor = torch.randn(4, 64).to(device)\n",
    "\n",
    "def print_sizes(model, input_tensor):\n",
    "    output = input_tensor\n",
    "    print(output.shape, 'initial')\n",
    "    for m in model.children():\n",
    "        output = m(output)\n",
    "        print(output.shape, '\\t', m)\n",
    "\n",
    "# print_sizes(generative_model.model, input_tensor)"
   ]
  },
  {
   "cell_type": "code",
   "execution_count": 9,
   "metadata": {
    "execution": {
     "iopub.execute_input": "2023-11-08T11:25:15.999870Z",
     "iopub.status.busy": "2023-11-08T11:25:15.999527Z",
     "iopub.status.idle": "2023-11-08T11:25:16.008505Z",
     "shell.execute_reply": "2023-11-08T11:25:16.007660Z",
     "shell.execute_reply.started": "2023-11-08T11:25:15.999837Z"
    },
    "id": "_5MP9ZfDwQoP"
   },
   "outputs": [],
   "source": [
    "discriminative_model = DiscriminativeNetwork().to(device)"
   ]
  },
  {
   "cell_type": "code",
   "execution_count": 10,
   "metadata": {
    "execution": {
     "iopub.execute_input": "2023-11-08T11:25:16.010117Z",
     "iopub.status.busy": "2023-11-08T11:25:16.009537Z",
     "iopub.status.idle": "2023-11-08T11:25:16.022456Z",
     "shell.execute_reply": "2023-11-08T11:25:16.021540Z",
     "shell.execute_reply.started": "2023-11-08T11:25:16.010091Z"
    },
    "id": "vG2lmY9CwQ6B"
   },
   "outputs": [],
   "source": [
    "generative_model = GenerativeNetwork().to(device)"
   ]
  },
  {
   "cell_type": "markdown",
   "metadata": {},
   "source": [
    "## Model before training"
   ]
  },
  {
   "cell_type": "code",
   "execution_count": 11,
   "metadata": {
    "execution": {
     "iopub.execute_input": "2023-11-08T11:25:16.024412Z",
     "iopub.status.busy": "2023-11-08T11:25:16.023750Z",
     "iopub.status.idle": "2023-11-08T11:25:17.268175Z",
     "shell.execute_reply": "2023-11-08T11:25:17.267224Z",
     "shell.execute_reply.started": "2023-11-08T11:25:16.024380Z"
    },
    "id": "AZY7enkNwTtA",
    "outputId": "d78980d4-d67b-4a0b-ff77-061a3764dc2d"
   },
   "outputs": [
    {
     "name": "stdout",
     "output_type": "stream",
     "text": [
      "torch.Size([3, 32, 32])\n",
      "tensor(0.0119, device='cuda:0', grad_fn=<MaxBackward1>) tensor(-0.0006, device='cuda:0', grad_fn=<MinBackward1>)\n",
      "tensor([[0.7467],\n",
      "        [0.4128],\n",
      "        [0.4482],\n",
      "        [0.5390]], device='cuda:0', grad_fn=<SigmoidBackward0>)\n"
     ]
    }
   ],
   "source": [
    "random_input = torch.randn(4, 64).to(device)\n",
    "random_images = generative_model(random_input)\n",
    "\n",
    "print(random_images[0].shape)\n",
    "print(random_images[0].max(), random_images[0].min())\n",
    "\n",
    "print(discriminative_model(random_images))"
   ]
  },
  {
   "cell_type": "code",
   "execution_count": 12,
   "metadata": {
    "execution": {
     "iopub.execute_input": "2023-11-08T11:25:17.269639Z",
     "iopub.status.busy": "2023-11-08T11:25:17.269345Z",
     "iopub.status.idle": "2023-11-08T11:25:17.511553Z",
     "shell.execute_reply": "2023-11-08T11:25:17.510318Z",
     "shell.execute_reply.started": "2023-11-08T11:25:17.269614Z"
    },
    "id": "PqVtQ9XIyEAX",
    "outputId": "0d928ec1-bab2-4760-99dc-eab2734c6f07"
   },
   "outputs": [
    {
     "name": "stdout",
     "output_type": "stream",
     "text": [
      "tensor(0.) tensor(1.)\n",
      "tensor(0.) tensor(1.)\n",
      "tensor(0.) tensor(1.)\n",
      "tensor(0.) tensor(1.)\n"
     ]
    },
    {
     "data": {
      "image/png": "[encoded data removed]",
      "text/plain": [
       "<Figure size 1000x1000 with 4 Axes>"
      ]
     },
     "metadata": {},
     "output_type": "display_data"
    }
   ],
   "source": [
    "def display_images(images):\n",
    "    # Assuming the tensor is of size [channels, 32, 32]:\n",
    "\n",
    "    # Make a grid to display multiple images at the same time in a grid\n",
    "    n_rows = 2\n",
    "    n_cols = 2\n",
    "    fig, axes = plt.subplots(n_rows, n_cols, figsize=(10,10))\n",
    "\n",
    "    for i, ax in enumerate(axes.flat):\n",
    "        # Only draw the images if there is one at that position\n",
    "        if i < len(images):\n",
    "            # We don't want to crowd the image\n",
    "            ax.axis('off')\n",
    "            images[i] = (images[i] - images[i].min()) / (images[i].max() - images[i].min())\n",
    "            ax.imshow(images[i].permute(1, 2, 0).cpu())\n",
    "            print(images[i].cpu().min(), images[i].cpu().max())\n",
    "    plt.show()\n",
    "\n",
    "display_images(random_images.detach())"
   ]
  },
  {
   "cell_type": "code",
   "execution_count": 13,
   "metadata": {
    "execution": {
     "iopub.execute_input": "2023-11-08T11:25:17.513957Z",
     "iopub.status.busy": "2023-11-08T11:25:17.513281Z",
     "iopub.status.idle": "2023-11-08T11:25:17.526114Z",
     "shell.execute_reply": "2023-11-08T11:25:17.525022Z",
     "shell.execute_reply.started": "2023-11-08T11:25:17.513911Z"
    },
    "id": "fq1MP_j47udv",
    "outputId": "3dbcf8ea-944e-4372-f4a3-8b681fec567a"
   },
   "outputs": [
    {
     "name": "stdout",
     "output_type": "stream",
     "text": [
      "already loaded\n"
     ]
    }
   ],
   "source": [
    "if not os.path.isdir(DATA_PATH):\n",
    "  !unzip crawled_cakes.zip\n",
    "  !mv crawled_cakes/* input/crawled_cakes\n",
    "else:\n",
    "  print('already loaded')"
   ]
  },
  {
   "cell_type": "markdown",
   "metadata": {},
   "source": [
    "## Prepare training data"
   ]
  },
  {
   "cell_type": "code",
   "execution_count": 14,
   "metadata": {
    "execution": {
     "iopub.execute_input": "2023-11-08T11:25:17.529919Z",
     "iopub.status.busy": "2023-11-08T11:25:17.529647Z",
     "iopub.status.idle": "2023-11-08T11:25:17.740538Z",
     "shell.execute_reply": "2023-11-08T11:25:17.739667Z",
     "shell.execute_reply.started": "2023-11-08T11:25:17.529895Z"
    },
    "id": "OK-zuzeH8PUP",
    "outputId": "f65f262e-1a6a-4ab7-dfaa-da30922b86db"
   },
   "outputs": [
    {
     "name": "stdout",
     "output_type": "stream",
     "text": [
      "Dataset ImageFolder\n",
      "    Number of datapoints: 975\n",
      "    Root location: /kaggle/input/crawled-cakes\n",
      "    StandardTransform\n",
      "Transform: Compose(\n",
      "               Resize(size=(32, 32), interpolation=bilinear, max_size=None, antialias=warn)\n",
      "               ToTensor()\n",
      "           )\n"
     ]
    },
    {
     "data": {
      "image/png": "[encoded data removed]",
      "text/plain": [
       "<Figure size 640x480 with 1 Axes>"
      ]
     },
     "metadata": {},
     "output_type": "display_data"
    }
   ],
   "source": [
    "transform = transforms.Compose([\n",
    "    transforms.Resize((32, 32)),\n",
    "    transforms.ToTensor(),\n",
    "])\n",
    "\n",
    "training_data = datasets.ImageFolder(\n",
    "    root=DATA_PATH,\n",
    "    transform=transform\n",
    "  )\n",
    "\n",
    "print(training_data)\n",
    "\n",
    "plt.imshow(training_data[0][0].permute(1, 2, 0))\n",
    "plt.show()"
   ]
  },
  {
   "cell_type": "markdown",
   "metadata": {
    "id": "asOUh_jYDFZ_"
   },
   "source": [
    "# Warmup"
   ]
  },
  {
   "cell_type": "code",
   "execution_count": 15,
   "metadata": {
    "execution": {
     "iopub.execute_input": "2023-11-08T11:25:17.743399Z",
     "iopub.status.busy": "2023-11-08T11:25:17.743032Z",
     "iopub.status.idle": "2023-11-08T11:25:17.749830Z",
     "shell.execute_reply": "2023-11-08T11:25:17.748799Z",
     "shell.execute_reply.started": "2023-11-08T11:25:17.743369Z"
    },
    "id": "K3hwChMCDHaa"
   },
   "outputs": [],
   "source": [
    "# Input shape: [N, 4]\n",
    "class SmallModel(nn.Module):\n",
    "    def __init__(self):\n",
    "        super().__init__()\n",
    "\n",
    "        self.layers = nn.Sequential(\n",
    "            nn.Linear(4, 16),\n",
    "            nn.Linear(16, 4),\n",
    "        )\n",
    "\n",
    "    def forward(self, x):\n",
    "        return self.layers(x)\n",
    "\n",
    "    def print_weights(self):\n",
    "      def get_layer(layer):\n",
    "        return f'L{layer}: {torch.mean(self.layers[layer].weight).item():.2f}'\n",
    "      print(get_layer(0), '\\t', get_layer(1))"
   ]
  },
  {
   "cell_type": "code",
   "execution_count": 16,
   "metadata": {
    "execution": {
     "iopub.execute_input": "2023-11-08T11:25:17.751491Z",
     "iopub.status.busy": "2023-11-08T11:25:17.751014Z",
     "iopub.status.idle": "2023-11-08T11:25:18.056860Z",
     "shell.execute_reply": "2023-11-08T11:25:18.055905Z",
     "shell.execute_reply.started": "2023-11-08T11:25:17.751464Z"
    },
    "id": "qM3q5bo3J2eB",
    "outputId": "fed14116-6a15-4fc2-cec3-216a26f5de2d"
   },
   "outputs": [
    {
     "name": "stdout",
     "output_type": "stream",
     "text": [
      "L0: -0.07 \t L1: -0.03\n",
      "Loss: 41.74541091918945\n",
      "Loss: 38.810546875\n",
      "Loss: 32.94664001464844\n",
      "Loss: 26.528345108032227\n",
      "Loss: 19.76386260986328\n",
      "Loss: 12.398368835449219\n",
      "Loss: 5.584953308105469\n",
      "Loss: 1.6644744873046875\n",
      "Loss: 1.87542724609375\n",
      "Loss: 1.1041717529296875\n",
      "L0: -2.82 \t L1: -0.03\n"
     ]
    },
    {
     "data": {
      "image/png": "[encoded data removed]",
      "text/plain": [
       "<Figure size 640x480 with 1 Axes>"
      ]
     },
     "metadata": {},
     "output_type": "display_data"
    }
   ],
   "source": [
    "torch.manual_seed(3)\n",
    "\n",
    "small_model = SmallModel().to(device)\n",
    "optimizer = torch.optim.SGD(small_model.layers[0].parameters(), lr=0.3, momentum=0.9)\n",
    "\n",
    "small_model.print_weights()\n",
    "\n",
    "y = []\n",
    "for i in range(100):\n",
    "  optimizer.zero_grad()\n",
    "\n",
    "  example_data = torch.rand(256, 4).to(device)\n",
    "\n",
    "  outputs = small_model(example_data)\n",
    "  loss = (torch.mean(outputs) - 42).abs()\n",
    "  loss.backward()\n",
    "\n",
    "  optimizer.step()\n",
    "  y.append(loss.item())\n",
    "\n",
    "  if i % 10 == 0:\n",
    "    print(f'Loss: {loss}')\n",
    "\n",
    "small_model.print_weights()\n",
    "\n",
    "plt.plot(y)\n",
    "plt.show()"
   ]
  },
  {
   "cell_type": "markdown",
   "metadata": {
    "id": "DxX2t9B5C6Ww"
   },
   "source": [
    "# Training"
   ]
  },
  {
   "cell_type": "code",
   "execution_count": null,
   "metadata": {
    "execution": {
     "iopub.execute_input": "2023-11-08T11:25:18.058478Z",
     "iopub.status.busy": "2023-11-08T11:25:18.058190Z"
    },
    "id": "xYHxKHlSi-Bh"
   },
   "outputs": [
    {
     "data": {
      "text/html": [
       "wandb version 0.16.0 is available!  To upgrade, please run:\n",
       " $ pip install wandb --upgrade"
      ],
      "text/plain": [
       "<IPython.core.display.HTML object>"
      ]
     },
     "metadata": {},
     "output_type": "display_data"
    },
    {
     "data": {
      "text/html": [
       "Tracking run with wandb version 0.15.9"
      ],
      "text/plain": [
       "<IPython.core.display.HTML object>"
      ]
     },
     "metadata": {},
     "output_type": "display_data"
    },
    {
     "data": {
      "text/html": [
       "Run data is saved locally in <code>/kaggle/working/wandb/run-20231108_112518-dj92hajp</code>"
      ],
      "text/plain": [
       "<IPython.core.display.HTML object>"
      ]
     },
     "metadata": {},
     "output_type": "display_data"
    },
    {
     "data": {
      "text/html": [
       "Syncing run <strong><a href='https://wandb.ai/qqb/gen-images/runs/dj92hajp' target=\"_blank\">lemon-flower-92</a></strong> to <a href='https://wandb.ai/qqb/gen-images' target=\"_blank\">Weights & Biases</a> (<a href='https://wandb.me/run' target=\"_blank\">docs</a>)<br/>"
      ],
      "text/plain": [
       "<IPython.core.display.HTML object>"
      ]
     },
     "metadata": {},
     "output_type": "display_data"
    },
    {
     "data": {
      "text/html": [
       " View project at <a href='https://wandb.ai/qqb/gen-images' target=\"_blank\">https://wandb.ai/qqb/gen-images</a>"
      ],
      "text/plain": [
       "<IPython.core.display.HTML object>"
      ]
     },
     "metadata": {},
     "output_type": "display_data"
    },
    {
     "data": {
      "text/html": [
       " View run at <a href='https://wandb.ai/qqb/gen-images/runs/dj92hajp' target=\"_blank\">https://wandb.ai/qqb/gen-images/runs/dj92hajp</a>"
      ],
      "text/plain": [
       "<IPython.core.display.HTML object>"
      ]
     },
     "metadata": {},
     "output_type": "display_data"
    },
    {
     "name": "stdout",
     "output_type": "stream",
     "text": [
      "starting training...\n"
     ]
    },
    {
     "data": {
      "application/vnd.jupyter.widget-view+json": {
       "model_id": "cb65e3e450934d3284773b1e624af2a4",
       "version_major": 2,
       "version_minor": 0
      },
      "text/plain": [
       "  0%|          | 0/2000 [00:00<?, ?it/s]"
      ]
     },
     "metadata": {},
     "output_type": "display_data"
    },
    {
     "name": "stdout",
     "output_type": "stream",
     "text": [
      "[1,   100] loss: 0.579 \tloss2: 1.263 \taccuracy 1.00\n",
      "saving model...\n"
     ]
    }
   ],
   "source": [
    "BATCH_SIZE = 16\n",
    "PRINT_EVERY_EPOCH = 50\n",
    "EPOCHS = 2000\n",
    "LR_DIS = 0.00001\n",
    "LR_GEN = 0.00001\n",
    "TEST_SIZE = 25\n",
    "MODEL_SAVE_EVERY_EPOCH = 250\n",
    "\n",
    "# prepare valid values\n",
    "test_random_vector = torch.randn(TEST_SIZE, 64).to(device)\n",
    "test_labels = torch.cat((torch.ones(TEST_SIZE), torch.zeros(TEST_SIZE))).to(device)\n",
    "\n",
    "test_dataloader = DataLoader(training_data, batch_size=TEST_SIZE)\n",
    "test_images, _ = next(iter(test_dataloader))\n",
    "test_images = test_images.to(device)\n",
    "\n",
    "# prepare models\n",
    "discriminative_model = DiscriminativeNetwork().to(device)\n",
    "generative_model = GenerativeNetwork().to(device)\n",
    "\n",
    "dataloader = DataLoader(training_data, batch_size=BATCH_SIZE)\n",
    "criterion = nn.BCELoss()\n",
    "\n",
    "optimizer1 = torch.optim.Adam(discriminative_model.parameters(), lr=LR_DIS)\n",
    "optimizer2 = torch.optim.Adam(generative_model.parameters(), lr=LR_GEN)\n",
    "\n",
    "images = []\n",
    "\n",
    "# prepare logs\n",
    "run = wandb.init(\n",
    "    # Set the project where this run will be logged\n",
    "    project=\"gen-images\",\n",
    "    # Track hyperparameters and run metadata\n",
    "    config={\n",
    "        \"learning_rate_discriminative\": LR_DIS,\n",
    "        \"learning_rate_generative\": LR_GEN,\n",
    "        \"epochs\": EPOCHS,\n",
    "        \"batch_size\": BATCH_SIZE,\n",
    "        \"test_size\": TEST_SIZE\n",
    "    })\n",
    "\n",
    "print('starting training...')\n",
    "\n",
    "for epoch in tqdm(range(EPOCHS)):  # loop over the dataset multiple times\n",
    "\n",
    "    running_loss = 0.0\n",
    "    running_loss2 = 0.0\n",
    "    \n",
    "    for data, _ in dataloader:\n",
    "        data = data.to(device)\n",
    "        # zero the parameter gradients\n",
    "        optimizer1.zero_grad()\n",
    "        optimizer2.zero_grad()\n",
    "        \n",
    "        discriminative_model.train()\n",
    "        generative_model.eval()\n",
    "\n",
    "        sample_size = len(data)\n",
    "\n",
    "        # generate fake images\n",
    "        random_input = torch.randn(sample_size, 64).to(device)\n",
    "\n",
    "        fake_images = generative_model(random_input)\n",
    "\n",
    "        # create batch\n",
    "        train_data = torch.cat((data, fake_images))\n",
    "        labels = torch.cat((torch.ones(sample_size), torch.zeros(sample_size)))\n",
    "\n",
    "        # add noise to labels\n",
    "        labels[:sample_size] -= torch.rand(sample_size) / 10\n",
    "\n",
    "        labels = torch.unsqueeze(labels, 1).to(device)\n",
    "\n",
    "        # forward + backward + optimize\n",
    "        outputs = discriminative_model(train_data)\n",
    "        loss = criterion(outputs, labels)\n",
    "        loss.backward()\n",
    "        optimizer1.step()\n",
    "\n",
    "        discriminative_model.eval()\n",
    "        generative_model.train()\n",
    "        \n",
    "        optimizer1.zero_grad()\n",
    "        optimizer2.zero_grad()\n",
    "\n",
    "        # generator\n",
    "        random_input = torch.randn(sample_size, 64).to(device)\n",
    "        generated_images = generative_model(random_input)\n",
    "        labels = torch.ones(sample_size).unsqueeze(1).to(device)\n",
    "\n",
    "        result = discriminative_model(generated_images)\n",
    "        loss2 = criterion(result, labels)\n",
    "\n",
    "        loss2.backward()\n",
    "        optimizer2.step()\n",
    "        \n",
    "        # print statistics\n",
    "        running_loss += loss.item()\n",
    "        running_loss2 += loss2.item()\n",
    "        \n",
    "    # validate\n",
    "    discriminative_model.eval()\n",
    "    generative_model.eval()\n",
    "\n",
    "    valid_generated_images = generative_model(test_random_vector)\n",
    "    valid_data = torch.cat((test_images, valid_generated_images))\n",
    "    valid_scores = discriminative_model(valid_data).squeeze()\n",
    "    valid_prediction = (valid_scores > 0.5).long()\n",
    "    \n",
    "    avg_real_scores = valid_scores[:TEST_SIZE].mean()\n",
    "    avg_fake_scores = valid_scores[TEST_SIZE:].mean()\n",
    "    \n",
    "    total = len(valid_data)\n",
    "    correct = (valid_prediction == test_labels).sum().item()\n",
    "    \n",
    "    accuracy = correct / total\n",
    "    images_to_send = [wandb.Image((im - im.min()) / (im.max() - im.min())) for im in valid_generated_images[:5]]\n",
    "    \n",
    "    img = valid_generated_images[0]\n",
    "    img = (img - img.min()) / (img.max() - img.min())\n",
    "    img = img.permute(1, 2, 0).cpu().detach().numpy() \n",
    "    images.append(img)\n",
    "\n",
    "    wandb.log({\n",
    "        \"loss_discriminative\": loss,\n",
    "        \"loss_generative\": loss2,\n",
    "        \"examples\": images_to_send,\n",
    "        \"epoch\": epoch, \n",
    "        \"accuracy\": accuracy,\n",
    "        \"avg_real_scores\": avg_real_scores,\n",
    "        \"avg_fake_scores\": avg_fake_scores,\n",
    "    })\n",
    "\n",
    "    if epoch % PRINT_EVERY_EPOCH == 0:\n",
    "        print(f'[{epoch + 1}, {i + 1:5d}] loss: {running_loss / PRINT_EVERY_EPOCH:.3f} \\tloss2: {running_loss2 / PRINT_EVERY_EPOCH:.3f} \\taccuracy {accuracy:.2f}')\n",
    "        \n",
    "    if epoch % MODEL_SAVE_EVERY_EPOCH == 0:\n",
    "        print('saving model...')\n",
    "        state = {\n",
    "            'epoch': epoch + 1,\n",
    "            'state_dict_gen': generative_model.state_dict(),\n",
    "            'state_dict_dis': discriminative_model.state_dict(),\n",
    "            'optimizer_gen': optimizer2.state_dict(), \n",
    "            'optimizer_dis': optimizer1.state_dict()\n",
    "        }\n",
    "        torch.save(generative_model.state_dict(), f'models_{epoch}.pt')\n",
    "\n",
    "print('Finished Training!')\n",
    "run.finish()"
   ]
  },
  {
   "cell_type": "markdown",
   "metadata": {},
   "source": [
    "## Results"
   ]
  },
  {
   "cell_type": "code",
   "execution_count": null,
   "metadata": {},
   "outputs": [],
   "source": [
    "valid_generated_images = generative_model(test_random_vector)\n",
    "display_images(valid_generated_images.detach())"
   ]
  },
  {
   "cell_type": "code",
   "execution_count": null,
   "metadata": {},
   "outputs": [],
   "source": [
    "fig, ax = plt.subplots()\n",
    "\n",
    "def animate(i):\n",
    "    ax.clear()\n",
    "    ax.imshow(images[i])\n",
    "\n",
    "ani = animation.FuncAnimation(fig, animate, frames=len(images), repeat=True)\n",
    "ani.save('animation.mp4', fps=60)\n",
    "plt.show()"
   ]
  }
 ],
 "metadata": {
  "kernelspec": {
   "display_name": "Python 3 (ipykernel)",
   "language": "python",
   "name": "python3"
  },
  "language_info": {
   "codemirror_mode": {
    "name": "ipython",
    "version": 3
   },
   "file_extension": ".py",
   "mimetype": "text/x-python",
   "name": "python",
   "nbconvert_exporter": "python",
   "pygments_lexer": "ipython3",
   "version": "3.9.13"
  }
 },
 "nbformat": 4,
 "nbformat_minor": 4
}
